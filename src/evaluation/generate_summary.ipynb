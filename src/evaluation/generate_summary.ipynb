{
 "cells": [
  {
   "cell_type": "markdown",
   "metadata": {},
   "source": [
    "This notebook allows you to use our Danish abstractive summarisation model to summarise Danish news articles."
   ]
  },
  {
   "cell_type": "code",
   "execution_count": null,
   "metadata": {},
   "outputs": [],
   "source": [
    "# install required modules\n",
    "# !pip install -r requirements.txt"
   ]
  },
  {
   "cell_type": "code",
   "execution_count": null,
   "metadata": {},
   "outputs": [],
   "source": [
    "# import function implementing the daT5-base summmariser\n",
    "from generate_sums import generate_summary"
   ]
  },
  {
   "cell_type": "code",
   "execution_count": null,
   "metadata": {},
   "outputs": [],
   "source": [
    "# insert the text of the news article you would like summarised\n",
    "articles = ['''Succesfuld mad- og drikkevogn kører dagligt på hjerteafdelingen i Horsens, og sørger for at få\n",
    "mere væske og mad til patienterne.\\n\\nHver formiddag triller en vogn med frugt og vand ind på\n",
    "stuerne på hjertemedicinsk afdeling i Horsens. Hver eneste patient bliver spurgt om de vil have\n",
    "lidt fra vognen. Og det har en afgørende forskel for patienternes appetit på et lille\n",
    "mellemmåltid.\\n\\nI det daglige tilbyder afdelingens sygeplejersker væske og mad mundtligt.\n",
    "Men der er bare mere afsætning, når saftevandet og frugten er lige foran patienten.\\n\\n- Vi\n",
    "tilbyder dem mad og drikke, men det kan være svært, når man ikke har det så godt. Når det\n",
    "kommer ud, og man kan se, det er der, så melder lysten sig, fortæller Camilla Thuesen Stenkjær,\n",
    "introduktionssygeplejerske på hjertemedicinsk afdeling.\\n\\nDet er SOSU-assistent Kirsten\n",
    "Stenvald, der dagligt tager turen med vognen, der indeholder forskellig frugt, noget koldt vand,\n",
    "saftevand og proteindrik. Og hvis man har lyst til en proteinberiget is, så kan den hentes i en\n",
    "\n",
    "fryser i nærheden.\\n\\n- Jeg synes, det er en god service, og patienterne opfatter det meget\n",
    "positivt. De bliver overraskede og glade, når vi kommer ud med vognen, fortæller hun og\n",
    "udpeger en ekstra fordel ved mad- og drikkevognen:\\n\\n- Når jeg kommer rundt, snakker jeg\n",
    "selvfølgelig også med patienterne. Det kan være om alt muligt, men ikke nødvendigvis om deres\n",
    "sygdom, og det tror jeg, betyder meget for dem.\\n\\nOrdningen har været på prøve i tre måneder.\n",
    "Men fordi det har været en succes, så gøres mad og drikkevognen nu permanent. For en god kost\n",
    "er vigtig for patienternes mulighed for at komme sig.\\n\\nFor Kirsten Løth Lysdahl er mad- og\n",
    "drikkevognen et udtryk for en prioritering af omsorgen. En daglig tur rundt med servicevognen\n",
    "tager 30-45 minutter, som kunne være brugt på andre opgaver. Men i det store billede er det en\n",
    "lille indsats, som gør en stor forskel for mange patienter.\\n\\n- Det gør både noget ved deres\n",
    "generelle ernæringstilstand, men også fordi de med tilbuddet får en ekstra omsorg, som mange\n",
    "ikke forventer at få i dag. Og måske kan det endda være med til at gøre dem mere\n",
    "opmærksomme på selv at gå op og hente noget mere mad, siger Kirsten Løth Lysdahl.''',\n",
    "'''Menneskerettighedsorganisationen Amnesty International finder det foruroligende, at Greenpeace-aktivister - heriblandt danske Anne Mie Roer Jensen - fortsat skal sidde bag tremmer i et fængsel i Murmansk.\\n\\nFredag fik afviste en russisk domstol at løslade aktivisterne mod kaution.\\n\\n- Det er dybt bekymrende, at aktivisterne ikke er blevet løsladt mod kaution.\\n\\n- Forholdene i de russiske fængsler er generelt meget barske, og ifølge Amnestys rapporter er betingelserne ofte værre i den type detentionscentre, hvor aktivisterne sidder varetægtsfængslet, skriver Trine Christensen, vicegeneralsekretær i Amnesty, til Ritzau.\\n\\n30 aktivister fra Greenpeace blev anholdt efter en aktion den 19. september i Det Arktiske Hav, hvor klimaorganisationen forsøgte at klatre om bord på Gazproms olieplatform for at protestere mod selskabets olieboringer i Arktis.\\n\\nAktivisternes skib Arctic Sunrise blev efterfølgende bordet og opbragt af russiske sikkerhedsstyrker, og alle om bord blev sigtet for pirateri, hvilket kan give op til 15 års fængsel.\\n\\nAmnesty appellerer samtidig til, at den danske regering tager afstand fra de russiske anklager om pirateri mod Greenpeace-aktivisterne.\\n\\n- Det er svært at sige, hvad der virker over for den russiske regering, og vi kender ikke ordlyden af kontakten, som Danmark har haft med Rusland på de indre linjer.\\n\\n- Dog mener vi, at pirateri-anklagerne er så absurde, at Danmark bør tage klart afstand fra dem, på linje med andre regeringer der har besætningsmedlemmer fra deres lande, siger Trine Christensen.\\n\\nAktivisterne, heriblandt Anne Mie Roer Jensen, er foreløbigt varetægtsfængslet i 60 dage.', 'summary': 'De fængslede aktivister er udsat for barske fængselsforhold, fortæller Amnesty International.''',\n",
    "'''Et stort antal russiske vælgere har vendt Ruslands premierminister, Vladi\\xadmir Putins, parti, Forenet Rusland, ryggen. Det er dog fortsat Ruslands suverænt største parti og sidder også stadig på flertallet i parlamentet i Moskva.\\n\\nMen alt er alligevel ikke fryd og gammen for Putin, for hans parti har ifølge valgkommissionen mistet et stort antal mandater. Mandag morgen var 96 procent af stemmerne fra søndagens parlamentsvalg talt op, og beregninger fra valgkommissionen siger, at Forenet Rusland kan vente at sætte sig på 238 af parlamentets 450 pladser.\\n\\nMen i det afgående parlament havde partiet 315 mandater.\\n\\nDet største oppositionsparti bliver ifølge tallene Det Kommunistiske Parti med 92 mandater.\\n\\nDerefter kommer Et Retfærdigt Rusland med 64 mandater, mens det ultranationalistiske Liberaldemokratiske Parti får 56 mandater.\\n\\nTilbagegangen for Putins parti betyder, at Forenet Rusland mister det såkaldte forfatningsflertal på to tredjedele af mandaterne.\\n\\nDet er det antal mandater, som er nødvendigt for at ændre forfatningen.\\n\\nMen Forenet Rusland kan dog mønstre sådan et flertal, hvis det slår sig sammen med parlamentarikerne fra Et Retfærdigt Rusland, der traditionelt har støttet Putins parti.''',\n",
    "'''Hvorfor laver DR nyheder til børn? I 2011 blev det skrevet ind i medieforliget, at DR skulle komme med et nyhedstilbud for børn. Et langt og grundigt forberedelsesarbejde resulterede i Ultra Nyt, der gik i luften 4.3 2013.\\n\\nHvem er Ultra Nyt til? Ultra Nyt er til de 7-12 årige. Vi anbefaler, at yngre børn ikke ser med, uden forældre eller andre voksne er til stede.\\n\\nHvorfor skal børn høre om krig og ubehagelige ting? På Ultra Nyt overvejer vi nøje, hvilke historier vi bringer. Og vi har altid målgruppen for øje. Derfor vælger vi kun at dække konflikter, naturkatastrofer og lignende, når vi vurderer, at børnene har hørt eller set om det i andre medier. Udfordringen er så, at de nyheder børnene har set andre steder, ikke er fortalt i et sprog, de kan forstå. Her er det Ultra Nyts opgave at sætte begivenheden ind i en ramme, de kan forholde sig til. Og så vidt muligt forsøge at være tryghedsskabende.\\n\\nHvorfor vise noget, der kan gøre børn kede af det? Det er helt normalt at børn bliver kede af det, når de hører eller ser noget, der er skræmmende eller overvældende. Det anerkender vi - og viser netop, at der er andre børn i Danmark, der har det på samme måde.\\n\\nBør forældre se med? Vi bestræber os på at lave en udsendelse, der som udgangspunkt ikke kræver voksen tilstedeværelse for store børn. Men nyheder kan være skræmmende, og vi opfordrer derfor forældre til at se med, hvis de ved, der har været en stor skræmmende begivenhed. Desuden håber vi, at Ultra Nyt kan give et udgangspunkt for samtaler hen over middagsbordet.\\n\\nKan jeg klage over Ultra Nyt? Vi vil gerne have kommentarer, ris og ros fra seerne. Generel kontakt kan tages til redaktionen via mail ultranyt@dr.dk\\n\\nHvis du har en formel klage, skal du skrive til os gennem DR's klagesystem. Du finder formularen via linket under artiklen.''',\n",
    "''' Ifølge det tyrkiske indenrigsministerium er mindst 30 mennesker blevet dræbt og 100 såret ved en eksplosion i et kulturcenter den tyrkiske by Suruc, som ligger nær den syriske grænse. Indenrigsministeriet kalder samtidig eksplosionen for et terrorangreb.\\n\\nDen tyrkiske tv-station CNN Turk har vist optagelser af dræbte og sårede uden for kulturcentret. Eksplosionen skete i kulturcentrets have.\\n\\n- Jeg så over 20 dræbte. De er stadig ved at lægge dem ind i ambulancer, siger et øjenvidne ved navn Mehmet til Reuters.\\n\\n- Det var en voldsom eksplosion. Vi blev alle rystet, siger han videre.\\n\\nOmkring 300 unge aktivister fra den socialistiske ungdomsorganisation Federation of Socialist Youth Organisation (SGDF), opholdt sig i centret, da eksplosionen fandt sted. Ifølge International Business Times var de unge samlet i byen for at genopbygge den syriske grænseby Kobane, som ligger omkring ti kilometer fra Suruc.\\n\\nKobane har været ødelagt, siden Islamisk Stat og kurdiske militanter tørnede sammen.\\n\\nLig ligger på jorden efter eksplosionen i den tyrkiske grænseby Suruc nær Syrien. Foto: AP Photo/Ozcan Soysal\\n\\nTo højtstående embedsmænd i Ankara siger, at bevismateriale tyder på, at Islamisk Stat står bag eksplosionen, skriver Reuters.\\n\\n- Der skete en meget voldsom eksplosion, mens en konference var i gang, siger Mahmut Boke, der arbejder for bystyret i Suruc.\\n\\nSuruc er tilflugtssted for mange kurdere, som er på flugt fra i Islamisk Stat i Kobani.\\n\\nIslamisk Stat erobrede kontrol over Kobani i september sidste år, hvilket fik mange af de lokale indbyggere til at flygte til Tyrkiet.\\n\\nDer blev derefter i måneder udkæmpet hårde kampe mellem den islamistiske gruppe og Kobanis kurdiske indbyggere, som siden har generobret byen.\\n\\nEn såret mand venter på lægehjælp efter eksplosionen i den tyrkiske grænseby Suruc nær Syrien. Foto: AP Photo/Ozcan Soysal'''\n",
    "]"
   ]
  },
  {
   "cell_type": "code",
   "execution_count": null,
   "metadata": {},
   "outputs": [],
   "source": [
    "summaries = [generate_summary(article) for article in articles]"
   ]
  }
 ],
 "metadata": {
  "kernelspec": {
   "display_name": "Python 3.9.13 64-bit",
   "language": "python",
   "name": "python3"
  },
  "language_info": {
   "name": "python",
   "version": "3.9.13"
  },
  "orig_nbformat": 4,
  "vscode": {
   "interpreter": {
    "hash": "767d51c1340bd893661ea55ea3124f6de3c7a262a8b4abca0554b478b1e2ff90"
   }
  }
 },
 "nbformat": 4,
 "nbformat_minor": 2
}
